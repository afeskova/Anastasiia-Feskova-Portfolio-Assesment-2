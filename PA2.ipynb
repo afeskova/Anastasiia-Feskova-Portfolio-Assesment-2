{
 "cells": [
  {
   "cell_type": "markdown",
   "id": "cc7894ae-e129-42af-ad3f-3a21dc52f79a",
   "metadata": {},
   "source": [
    "### **1. Objection: Evaluate whether purchasing a VIP subscription affects a user's chances of being matched, categorized as high, average, or low.** ###"
   ]
  },
  {
   "cell_type": "markdown",
   "id": "1331db8c-f8a0-47f2-8f22-8374b674b496",
   "metadata": {},
   "source": [
    "While dating apps increasingly promote premium subscriptions as a way to improve users’ chances of finding love, the actual impact of these features remains unclear. Media analysis, like The Guardian’s, suggests that paid features may not significantly enhance match outcomes. This uncertainty highlights the need for data-driven evaluation. My research addresses this gap by using predictive modeling to assess whether purchasing a VIP subscription truly affects a user’s chances of being matched, categorized as high, average, or low.\n",
    "\n",
    "Source: https://www.theguardian.com/lifeandstyle/2021/apr/24/dating-apps-premium-find-love-over-30"
   ]
  },
  {
   "cell_type": "markdown",
   "id": "f7546936-bb87-4c53-901d-e9a1070f5ead",
   "metadata": {},
   "source": [
    "### **2. Data Description:** ###"
   ]
  },
  {
   "cell_type": "markdown",
   "id": "66d609e4-ec8b-4744-9855-95dd803a0de6",
   "metadata": {},
   "source": [
    "#### **About the dataset:** ####\n",
    "\n",
    "The dataset provides a comprehensive view of the dynamics of online matchmaking interaction and captures essential variables that influence the likelihood of successful matches across different genders. \n",
    "\n",
    "#### **Collection:** ####\n",
    "\n",
    "The owner claims that the source of this dataset is confidential.\n",
    "\n",
    "#### **Supporting Explanations:** ####\n",
    "\n",
    "\n",
    "Gender: 0 (Male), 1 (Female)\n",
    "\n",
    "PurchasedVIP: 0 (No), 1 (Yes)\n",
    "\n",
    "Income: Annual income in USD\n",
    "\n",
    "Children: Number of children\n",
    "\n",
    "Age: Age of the user\n",
    "\n",
    "Attractiveness: Subjective rating of attractiveness (1-10)\n",
    "\n",
    "Matches: Number of matches obtained based on the criteria. "
   ]
  },
  {
   "cell_type": "markdown",
   "id": "c42c1a82-4b28-4bb3-a1b4-9b04c991714b",
   "metadata": {},
   "source": [
    "#### **Resource:** ####\n",
    "https://www.kaggle.com/datasets/rabieelkharoua/predict-online-dating-matches-dataset\n",
    "#### **Owner: Rabie El Kharoua** ####"
   ]
  },
  {
   "cell_type": "markdown",
   "id": "9a2af89d-4b67-4798-a42a-e0478bacf423",
   "metadata": {},
   "source": [
    "### **3. Data Processing** ###"
   ]
  },
  {
   "cell_type": "markdown",
   "id": "ce3ecbd4-cebc-4673-9f02-9bb37edd803a",
   "metadata": {},
   "source": [
    "##### Importing the Required Libraries and Dataset #####"
   ]
  },
  {
   "cell_type": "code",
   "execution_count": 20,
   "id": "75a9c7cb-7c18-45b5-983a-27e4cb65c52a",
   "metadata": {},
   "outputs": [
    {
     "data": {
      "text/html": [
       "<div>\n",
       "<style scoped>\n",
       "    .dataframe tbody tr th:only-of-type {\n",
       "        vertical-align: middle;\n",
       "    }\n",
       "\n",
       "    .dataframe tbody tr th {\n",
       "        vertical-align: top;\n",
       "    }\n",
       "\n",
       "    .dataframe thead th {\n",
       "        text-align: right;\n",
       "    }\n",
       "</style>\n",
       "<table border=\"1\" class=\"dataframe\">\n",
       "  <thead>\n",
       "    <tr style=\"text-align: right;\">\n",
       "      <th></th>\n",
       "      <th>Gender</th>\n",
       "      <th>PurchasedVIP</th>\n",
       "      <th>Income</th>\n",
       "      <th>Children</th>\n",
       "      <th>Age</th>\n",
       "      <th>Attractiveness</th>\n",
       "      <th>Matches</th>\n",
       "    </tr>\n",
       "  </thead>\n",
       "  <tbody>\n",
       "    <tr>\n",
       "      <th>0</th>\n",
       "      <td>0</td>\n",
       "      <td>1</td>\n",
       "      <td>51777</td>\n",
       "      <td>3</td>\n",
       "      <td>47</td>\n",
       "      <td>5</td>\n",
       "      <td>70</td>\n",
       "    </tr>\n",
       "    <tr>\n",
       "      <th>1</th>\n",
       "      <td>1</td>\n",
       "      <td>0</td>\n",
       "      <td>36646</td>\n",
       "      <td>0</td>\n",
       "      <td>42</td>\n",
       "      <td>7</td>\n",
       "      <td>130</td>\n",
       "    </tr>\n",
       "    <tr>\n",
       "      <th>2</th>\n",
       "      <td>0</td>\n",
       "      <td>0</td>\n",
       "      <td>53801</td>\n",
       "      <td>1</td>\n",
       "      <td>25</td>\n",
       "      <td>5</td>\n",
       "      <td>0</td>\n",
       "    </tr>\n",
       "    <tr>\n",
       "      <th>3</th>\n",
       "      <td>0</td>\n",
       "      <td>0</td>\n",
       "      <td>56105</td>\n",
       "      <td>0</td>\n",
       "      <td>35</td>\n",
       "      <td>8</td>\n",
       "      <td>0</td>\n",
       "    </tr>\n",
       "    <tr>\n",
       "      <th>4</th>\n",
       "      <td>0</td>\n",
       "      <td>0</td>\n",
       "      <td>55597</td>\n",
       "      <td>1</td>\n",
       "      <td>36</td>\n",
       "      <td>6</td>\n",
       "      <td>0</td>\n",
       "    </tr>\n",
       "    <tr>\n",
       "      <th>...</th>\n",
       "      <td>...</td>\n",
       "      <td>...</td>\n",
       "      <td>...</td>\n",
       "      <td>...</td>\n",
       "      <td>...</td>\n",
       "      <td>...</td>\n",
       "      <td>...</td>\n",
       "    </tr>\n",
       "    <tr>\n",
       "      <th>995</th>\n",
       "      <td>0</td>\n",
       "      <td>0</td>\n",
       "      <td>36799</td>\n",
       "      <td>0</td>\n",
       "      <td>28</td>\n",
       "      <td>1</td>\n",
       "      <td>0</td>\n",
       "    </tr>\n",
       "    <tr>\n",
       "      <th>996</th>\n",
       "      <td>0</td>\n",
       "      <td>1</td>\n",
       "      <td>43882</td>\n",
       "      <td>2</td>\n",
       "      <td>46</td>\n",
       "      <td>9</td>\n",
       "      <td>70</td>\n",
       "    </tr>\n",
       "    <tr>\n",
       "      <th>997</th>\n",
       "      <td>1</td>\n",
       "      <td>0</td>\n",
       "      <td>49629</td>\n",
       "      <td>2</td>\n",
       "      <td>49</td>\n",
       "      <td>6</td>\n",
       "      <td>120</td>\n",
       "    </tr>\n",
       "    <tr>\n",
       "      <th>998</th>\n",
       "      <td>1</td>\n",
       "      <td>0</td>\n",
       "      <td>45706</td>\n",
       "      <td>1</td>\n",
       "      <td>22</td>\n",
       "      <td>8</td>\n",
       "      <td>140</td>\n",
       "    </tr>\n",
       "    <tr>\n",
       "      <th>999</th>\n",
       "      <td>0</td>\n",
       "      <td>0</td>\n",
       "      <td>43075</td>\n",
       "      <td>0</td>\n",
       "      <td>43</td>\n",
       "      <td>3</td>\n",
       "      <td>0</td>\n",
       "    </tr>\n",
       "  </tbody>\n",
       "</table>\n",
       "<p>1000 rows × 7 columns</p>\n",
       "</div>"
      ],
      "text/plain": [
       "     Gender  PurchasedVIP  Income  Children  Age  Attractiveness  Matches\n",
       "0         0             1   51777         3   47               5       70\n",
       "1         1             0   36646         0   42               7      130\n",
       "2         0             0   53801         1   25               5        0\n",
       "3         0             0   56105         0   35               8        0\n",
       "4         0             0   55597         1   36               6        0\n",
       "..      ...           ...     ...       ...  ...             ...      ...\n",
       "995       0             0   36799         0   28               1        0\n",
       "996       0             1   43882         2   46               9       70\n",
       "997       1             0   49629         2   49               6      120\n",
       "998       1             0   45706         1   22               8      140\n",
       "999       0             0   43075         0   43               3        0\n",
       "\n",
       "[1000 rows x 7 columns]"
      ]
     },
     "execution_count": 20,
     "metadata": {},
     "output_type": "execute_result"
    }
   ],
   "source": [
    "import pandas as pd\n",
    "import matplotlib.pyplot as plt\n",
    "import seaborn as sns\n",
    "import numpy as np\n",
    "from sklearn.model_selection import train_test_split\n",
    "from sklearn.metrics import confusion_matrix, classification_report, accuracy_score\n",
    "from sklearn.neighbors import KNeighborsClassifier \n",
    "from sklearn.model_selection import cross_val_score\n",
    "from sklearn.preprocessing import StandardScaler \n",
    "\n",
    "import warnings\n",
    "warnings.filterwarnings('ignore')\n",
    "\n",
    "dates = pd.read_csv('Online_Dating_Behavior_Dataset.csv')\n",
    "dates"
   ]
  },
  {
   "cell_type": "markdown",
   "id": "41de7d69-b924-4928-83ee-0e35587a8f38",
   "metadata": {},
   "source": [
    "##### Checking for missing data #####"
   ]
  },
  {
   "cell_type": "code",
   "execution_count": 22,
   "id": "5788d71a-097b-4458-b436-e96e6f412127",
   "metadata": {},
   "outputs": [
    {
     "data": {
      "text/plain": [
       "Gender            0\n",
       "PurchasedVIP      0\n",
       "Income            0\n",
       "Children          0\n",
       "Age               0\n",
       "Attractiveness    0\n",
       "Matches           0\n",
       "dtype: int64"
      ]
     },
     "execution_count": 22,
     "metadata": {},
     "output_type": "execute_result"
    }
   ],
   "source": [
    "dates.isna().sum()"
   ]
  },
  {
   "cell_type": "markdown",
   "id": "34c6ee88-da69-4b39-9f8f-e14285914ed5",
   "metadata": {},
   "source": [
    "##### Checking the data type #####"
   ]
  },
  {
   "cell_type": "code",
   "execution_count": 24,
   "id": "4b9185e0-ec05-4d00-ab75-8cf1af74753c",
   "metadata": {},
   "outputs": [
    {
     "data": {
      "text/plain": [
       "Gender            int64\n",
       "PurchasedVIP      int64\n",
       "Income            int64\n",
       "Children          int64\n",
       "Age               int64\n",
       "Attractiveness    int64\n",
       "Matches           int64\n",
       "dtype: object"
      ]
     },
     "execution_count": 24,
     "metadata": {},
     "output_type": "execute_result"
    }
   ],
   "source": [
    "dates.dtypes"
   ]
  },
  {
   "cell_type": "markdown",
   "id": "96640d04-f457-4852-b247-f8b729882801",
   "metadata": {},
   "source": [
    "##### Checking for duplicates #####"
   ]
  },
  {
   "cell_type": "code",
   "execution_count": 26,
   "id": "3f10b237-34ce-4a9a-95ae-d8b26f089243",
   "metadata": {},
   "outputs": [
    {
     "data": {
      "text/html": [
       "<div>\n",
       "<style scoped>\n",
       "    .dataframe tbody tr th:only-of-type {\n",
       "        vertical-align: middle;\n",
       "    }\n",
       "\n",
       "    .dataframe tbody tr th {\n",
       "        vertical-align: top;\n",
       "    }\n",
       "\n",
       "    .dataframe thead th {\n",
       "        text-align: right;\n",
       "    }\n",
       "</style>\n",
       "<table border=\"1\" class=\"dataframe\">\n",
       "  <thead>\n",
       "    <tr style=\"text-align: right;\">\n",
       "      <th></th>\n",
       "      <th>Gender</th>\n",
       "      <th>PurchasedVIP</th>\n",
       "      <th>Income</th>\n",
       "      <th>Children</th>\n",
       "      <th>Age</th>\n",
       "      <th>Attractiveness</th>\n",
       "      <th>Matches</th>\n",
       "    </tr>\n",
       "  </thead>\n",
       "  <tbody>\n",
       "  </tbody>\n",
       "</table>\n",
       "</div>"
      ],
      "text/plain": [
       "Empty DataFrame\n",
       "Columns: [Gender, PurchasedVIP, Income, Children, Age, Attractiveness, Matches]\n",
       "Index: []"
      ]
     },
     "execution_count": 26,
     "metadata": {},
     "output_type": "execute_result"
    }
   ],
   "source": [
    "dates[dates.duplicated()]"
   ]
  },
  {
   "cell_type": "markdown",
   "id": "bb3cab51-b838-4267-be4c-1c27847402d7",
   "metadata": {},
   "source": [
    "##### As seen above, this dataset is well-organized and ready for processing. However, I decided to check whether the binary categories were balanced by using .value_counts() ####"
   ]
  },
  {
   "cell_type": "code",
   "execution_count": 28,
   "id": "da52bcaa-281d-4fd4-807f-9a7291748030",
   "metadata": {},
   "outputs": [
    {
     "data": {
      "text/plain": [
       "Gender\n",
       "1    510\n",
       "0    490\n",
       "Name: count, dtype: int64"
      ]
     },
     "execution_count": 28,
     "metadata": {},
     "output_type": "execute_result"
    }
   ],
   "source": [
    "dates ['Gender'].value_counts()"
   ]
  },
  {
   "cell_type": "code",
   "execution_count": 29,
   "id": "0772eaea-311b-4b1c-a38f-1725e539a6dc",
   "metadata": {},
   "outputs": [
    {
     "data": {
      "text/plain": [
       "PurchasedVIP\n",
       "0    526\n",
       "1    474\n",
       "Name: count, dtype: int64"
      ]
     },
     "execution_count": 29,
     "metadata": {},
     "output_type": "execute_result"
    }
   ],
   "source": [
    "dates ['PurchasedVIP'].value_counts()"
   ]
  },
  {
   "cell_type": "markdown",
   "id": "3df3eb62-d07e-4c70-ab07-0ef0413f074d",
   "metadata": {},
   "source": [
    "##### As decided earlier, I wanted to categorize the number of matches. To do this, I used a boxplot to examine the data's distribution. ####"
   ]
  },
  {
   "cell_type": "code",
   "execution_count": 31,
   "id": "acd0a5e5-74bb-4407-9c32-f25347281350",
   "metadata": {},
   "outputs": [
    {
     "data": {
      "image/png": "[encoded data removed]",
      "text/plain": [
       "<Figure size 640x480 with 1 Axes>"
      ]
     },
     "metadata": {},
     "output_type": "display_data"
    }
   ],
   "source": [
    "plt.boxplot(dates['Matches'])\n",
    "\n",
    "\n",
    "plt.title('Distribution of Matches')\n",
    "plt.ylabel ('Numer of Matches')\n",
    "plt.xticks([])\n",
    "\n",
    "plt.show()"
   ]
  },
  {
   "cell_type": "markdown",
   "id": "096d11e7-67d5-494b-8c3a-79f2fd05a8b1",
   "metadata": {},
   "source": [
    "##### Based on the boxplot and the approximate quartile spread, I defined thresholds for each category. Additionally, I renamed the column 'Matches' to 'Number of Matches' to clearly differentiate it from the new column containing the categorical labels. ####"
   ]
  },
  {
   "cell_type": "code",
   "execution_count": 33,
   "id": "079741bd-b653-44c9-ae67-701ad291a3ea",
   "metadata": {},
   "outputs": [],
   "source": [
    "dates.rename(columns = {'Matches': 'Number of Matches'}, inplace = True)"
   ]
  },
  {
   "cell_type": "code",
   "execution_count": 34,
   "id": "ae602112-3256-47e8-8cf2-1dfea2ca5770",
   "metadata": {},
   "outputs": [],
   "source": [
    "def categorize(score):\n",
    "    if score >= 120:\n",
    "        return \"high\"\n",
    "    elif score >= 40:\n",
    "        return \"average\"\n",
    "    else:\n",
    "        return \"low\"\n",
    "dates[\"Match\"] = dates[\"Number of Matches\"].apply(categorize)"
   ]
  },
  {
   "cell_type": "markdown",
   "id": "ecc06eed-b556-4db5-bd19-47aee74e071e",
   "metadata": {},
   "source": [
    "### **3. EDA** ### "
   ]
  },
  {
   "cell_type": "markdown",
   "id": "c776d72c-d860-4e73-9139-21795a3773c0",
   "metadata": {},
   "source": [
    "I began by examining the distribution by Gender and VIP Subscription, since I had previously checked their balance in the dataset. As shown below, both variables reveal interesting patterns. For VIP Subscription, users who had purchased it were not categorized into the low match group, though they didn’t show significantly higher chances of being in the high match group either. Regarding Gender, there’s a clear trend: male users were not placed in the high match category, whereas female users were more likely to be classified in it. Given how odd this finding was, I rechecked it with a two-way frequency table, which confirmed that there were 0 male users in the 'high' and 0 female users in the 'low' category. This could potentially be linked to psychological factors—for instance, female users may have been less inclined to report lower match counts. At the same time, both groups (with and without subscription, as well as male and female) show a relatively similar distribution within the average match category."
   ]
  },
  {
   "cell_type": "code",
   "execution_count": 168,
   "id": "ce293179-34d1-44f0-adc7-e4593172356d",
   "metadata": {},
   "outputs": [
    {
     "data": {
      "image/png": "[encoded data removed]",
      "text/plain": [
       "<Figure size 640x480 with 1 Axes>"
      ]
     },
     "metadata": {},
     "output_type": "display_data"
    },
    {
     "data": {
      "image/png": "[encoded data removed]",
      "text/plain": [
       "<Figure size 640x480 with 1 Axes>"
      ]
     },
     "metadata": {},
     "output_type": "display_data"
    }
   ],
   "source": [
    "pd.crosstab(dates['PurchasedVIP'], dates['Match']).plot(kind='bar')\n",
    "plt.title('Match Distribution by VIP Subscription')\n",
    "plt.xlabel('VIP Subscription (0-Not Purchased, 1 - Purchased)')\n",
    "plt.show()\n",
    "\n",
    "pd.crosstab(dates['Gender'], dates['Match']).plot(kind='bar')\n",
    "plt.title('Match Distribution by Gender')\n",
    "plt.xlabel('Gender (0-Male, 1-Female)')\n",
    "plt.show()\n"
   ]
  },
  {
   "cell_type": "code",
   "execution_count": 240,
   "id": "dbfa43ee-992d-4083-ba1c-59fe24c83621",
   "metadata": {},
   "outputs": [
    {
     "data": {
      "text/html": [
       "<div>\n",
       "<style scoped>\n",
       "    .dataframe tbody tr th:only-of-type {\n",
       "        vertical-align: middle;\n",
       "    }\n",
       "\n",
       "    .dataframe tbody tr th {\n",
       "        vertical-align: top;\n",
       "    }\n",
       "\n",
       "    .dataframe thead th {\n",
       "        text-align: right;\n",
       "    }\n",
       "</style>\n",
       "<table border=\"1\" class=\"dataframe\">\n",
       "  <thead>\n",
       "    <tr style=\"text-align: right;\">\n",
       "      <th>Match</th>\n",
       "      <th>average</th>\n",
       "      <th>high</th>\n",
       "      <th>low</th>\n",
       "      <th>All</th>\n",
       "    </tr>\n",
       "    <tr>\n",
       "      <th>Gender</th>\n",
       "      <th></th>\n",
       "      <th></th>\n",
       "      <th></th>\n",
       "      <th></th>\n",
       "    </tr>\n",
       "  </thead>\n",
       "  <tbody>\n",
       "    <tr>\n",
       "      <th>0</th>\n",
       "      <td>231</td>\n",
       "      <td>0</td>\n",
       "      <td>259</td>\n",
       "      <td>490</td>\n",
       "    </tr>\n",
       "    <tr>\n",
       "      <th>1</th>\n",
       "      <td>232</td>\n",
       "      <td>278</td>\n",
       "      <td>0</td>\n",
       "      <td>510</td>\n",
       "    </tr>\n",
       "    <tr>\n",
       "      <th>All</th>\n",
       "      <td>463</td>\n",
       "      <td>278</td>\n",
       "      <td>259</td>\n",
       "      <td>1000</td>\n",
       "    </tr>\n",
       "  </tbody>\n",
       "</table>\n",
       "</div>"
      ],
      "text/plain": [
       "Match   average  high  low   All\n",
       "Gender                          \n",
       "0           231     0  259   490\n",
       "1           232   278    0   510\n",
       "All         463   278  259  1000"
      ]
     },
     "execution_count": 240,
     "metadata": {},
     "output_type": "execute_result"
    }
   ],
   "source": [
    "table = pd.crosstab(dates['Gender'], dates['Match'], margins=True)\n",
    "table"
   ]
  },
  {
   "cell_type": "markdown",
   "id": "67fd9a00-9621-4379-9974-348c265d3e5b",
   "metadata": {},
   "source": [
    "I also decided to examine the patterns for Income; however, due to the underrepresentation of male users in the high match category and female users in the low match category, any insights drawn from this variable may not be fully reliable. "
   ]
  },
  {
   "cell_type": "code",
   "execution_count": 182,
   "id": "1bd7082a-411a-4f14-9c84-133775c2528d",
   "metadata": {},
   "outputs": [
    {
     "data": {
      "text/plain": [
       "<Axes: xlabel='Match', ylabel='Income'>"
      ]
     },
     "execution_count": 182,
     "metadata": {},
     "output_type": "execute_result"
    },
    {
     "data": {
      "image/png": "[encoded data removed]",
      "text/plain": [
       "<Figure size 640x480 with 1 Axes>"
      ]
     },
     "metadata": {},
     "output_type": "display_data"
    }
   ],
   "source": [
    "sns.barplot(x='Match', y='Income', data=dates, hue = 'Gender')"
   ]
  },
  {
   "cell_type": "markdown",
   "id": "7d46211d-5064-4b94-a876-46d45ee567f5",
   "metadata": {},
   "source": [
    "'Children' variable also did not reveal any meaningful patterns in relation to match categories.\n"
   ]
  },
  {
   "cell_type": "code",
   "execution_count": 219,
   "id": "69a578d8-b0b1-40e8-9654-883774a2d24a",
   "metadata": {},
   "outputs": [
    {
     "data": {
      "text/plain": [
       "<Axes: xlabel='Children', ylabel='Number of Matches'>"
      ]
     },
     "execution_count": 219,
     "metadata": {},
     "output_type": "execute_result"
    },
    {
     "data": {
      "image/png": "[encoded data removed]",
      "text/plain": [
       "<Figure size 640x480 with 1 Axes>"
      ]
     },
     "metadata": {},
     "output_type": "display_data"
    }
   ],
   "source": [
    "sns.scatterplot(x='Children', y='Number of Matches', data=dates)"
   ]
  },
  {
   "cell_type": "markdown",
   "id": "50810bc3-3361-42c4-91b8-45e2ef139a4f",
   "metadata": {},
   "source": [
    "The chart shows that while female users receive significantly more matches as attractiveness increases, male users see little change, highlighting a gender disparity in how subjective attractiveness impacts match success. It also underlines that there were more factors underlying the male users' match likelihood. "
   ]
  },
  {
   "cell_type": "code",
   "execution_count": 224,
   "id": "187346ef-d4fd-404a-a545-639a51194c30",
   "metadata": {},
   "outputs": [
    {
     "data": {
      "text/plain": [
       "<Axes: xlabel='Attractiveness', ylabel='Number of Matches'>"
      ]
     },
     "execution_count": 224,
     "metadata": {},
     "output_type": "execute_result"
    },
    {
     "data": {
      "image/png": "[encoded data removed]",
      "text/plain": [
       "<Figure size 640x480 with 1 Axes>"
      ]
     },
     "metadata": {},
     "output_type": "display_data"
    }
   ],
   "source": [
    "sns.barplot(x='Attractiveness', y='Number of Matches', hue = 'Gender', data=dates)"
   ]
  },
  {
   "cell_type": "markdown",
   "id": "7d581502-0d04-4078-96ad-2959edac1355",
   "metadata": {},
   "source": [
    "As mentioned before, gender appears to substantially influence match outcomes (in the context of this data set), while age shows only mild variation across categories."
   ]
  },
  {
   "cell_type": "code",
   "execution_count": 235,
   "id": "1b841c74-d7c9-4b1f-a503-953b963c56b2",
   "metadata": {},
   "outputs": [
    {
     "data": {
      "text/plain": [
       "<Axes: xlabel='Age', ylabel='Match'>"
      ]
     },
     "execution_count": 235,
     "metadata": {},
     "output_type": "execute_result"
    },
    {
     "data": {
      "image/png": "[encoded data removed]",
      "text/plain": [
       "<Figure size 640x480 with 1 Axes>"
      ]
     },
     "metadata": {},
     "output_type": "display_data"
    }
   ],
   "source": [
    "sns.boxplot(x='Age', y='Match', hue = 'Gender', data=dates)"
   ]
  },
  {
   "cell_type": "markdown",
   "id": "803ff5c5-eafb-478a-babc-72468dcbfe53",
   "metadata": {},
   "source": [
    "Given the complexity of the findings and the overall limitations, I decided to include all available features in the model."
   ]
  },
  {
   "cell_type": "markdown",
   "id": "53e8f979-34aa-4821-882c-85a8b5a515f0",
   "metadata": {},
   "source": [
    "### **4. Data Modeling** ###"
   ]
  },
  {
   "cell_type": "markdown",
   "id": "f7c89f31-ecb8-434f-ac5f-b967883e1702",
   "metadata": {},
   "source": [
    "##### Selecting independent variables and the dependent variable, and scaling #####"
   ]
  },
  {
   "cell_type": "code",
   "execution_count": 38,
   "id": "0c862735-7640-4882-8f3d-370a64d3802a",
   "metadata": {},
   "outputs": [],
   "source": [
    "x = dates[['Gender', 'PurchasedVIP', 'Income', 'Children', 'Age', 'Attractiveness']]  \n",
    "y = dates['Match'] \n",
    "scaler = StandardScaler()\n",
    "x = scaler.fit_transform(x)"
   ]
  },
  {
   "cell_type": "markdown",
   "id": "7d57c128-9e58-45be-a60b-a46a9b4f663e",
   "metadata": {},
   "source": [
    "##### Creating a dictionary in order to determine the accuracy scores of various values of k, and adding them #####"
   ]
  },
  {
   "cell_type": "code",
   "execution_count": 40,
   "id": "2d904948-19fe-4bb8-8c11-73d36072065e",
   "metadata": {},
   "outputs": [],
   "source": [
    "k_values = [i for i in range (1,31)]\n",
    "accuracies = {}\n",
    "\n",
    "for k in k_values:\n",
    "    knn = KNeighborsClassifier(n_neighbors=k)\n",
    "    scores = cross_val_score(knn, x, y)\n",
    "    score = np.mean(scores)\n",
    "    accuracies[k] = score\n",
    "\n"
   ]
  },
  {
   "cell_type": "markdown",
   "id": "40d45fd2-6e0b-4fe4-b909-730583685467",
   "metadata": {},
   "source": [
    "##### Plotting the K values and their corresponding accuracy scores from the previous step to evaluate whether the current range needs adjustment #####"
   ]
  },
  {
   "cell_type": "code",
   "execution_count": 42,
   "id": "aef7bfd4-033c-45d3-910a-af5379f17b18",
   "metadata": {},
   "outputs": [
    {
     "data": {
      "image/png": "[encoded data removed]",
      "text/plain": [
       "<Figure size 640x480 with 1 Axes>"
      ]
     },
     "metadata": {},
     "output_type": "display_data"
    }
   ],
   "source": [
    "plt.plot(k_values, accuracies.values())\n",
    "plt.xlabel('K Values')\n",
    "plt.ylabel('Accuracy')\n",
    "plt.show()"
   ]
  },
  {
   "cell_type": "markdown",
   "id": "f6ce4524-fbb1-45dd-b8aa-d58f19aaee7e",
   "metadata": {},
   "source": [
    "##### It is clear that there is no need to expand the range, as the trend declines after 10-11. To confirm this, I used a dictionary of k-values and their corresponding accuracy scores to identify which k-value(s) yielded the highest accuracy. My prediction of approximately 11 proved to be accurate. #####"
   ]
  },
  {
   "cell_type": "code",
   "execution_count": 44,
   "id": "3389ce85-f0ec-4fa6-b05e-8b66f2f25236",
   "metadata": {},
   "outputs": [
    {
     "data": {
      "text/plain": [
       "[[11, 0.984]]"
      ]
     },
     "execution_count": 44,
     "metadata": {},
     "output_type": "execute_result"
    }
   ],
   "source": [
    "max_val = max(accuracies.values())\n",
    "max_pairs = []\n",
    "for k, score in accuracies.items():\n",
    "    if score == max_val:\n",
    "        max_pairs.append([k, score])\n",
    "max_pairs"
   ]
  },
  {
   "cell_type": "markdown",
   "id": "b9506d69-1664-4383-b9bf-02ff8fa845f3",
   "metadata": {},
   "source": [
    "##### Splitting the data into training and testing data, and transforming ###### "
   ]
  },
  {
   "cell_type": "code",
   "execution_count": 46,
   "id": "73c27f7a-2ae9-479b-92bc-dc03408093c7",
   "metadata": {},
   "outputs": [],
   "source": [
    "x_train, x_test, y_train, y_test = train_test_split(x, y, test_size = 0.2, train_size = 0.8, random_state = 4)\n",
    "sc = StandardScaler()\n",
    "x_train = sc.fit_transform(x_train)\n",
    "x_test = sc.transform(x_test)"
   ]
  },
  {
   "cell_type": "markdown",
   "id": "88412eff-7514-4ea5-8a23-3fa23e859d73",
   "metadata": {},
   "source": [
    "##### Model creation with the previously defined optimal value of k ######"
   ]
  },
  {
   "cell_type": "code",
   "execution_count": 48,
   "id": "a242befd-1f65-4be8-9627-d0312ff482d5",
   "metadata": {},
   "outputs": [
    {
     "data": {
      "text/html": [
       "<style>#sk-container-id-1 {\n",
       "  /* Definition of color scheme common for light and dark mode */\n",
       "  --sklearn-color-text: black;\n",
       "  --sklearn-color-line: gray;\n",
       "  /* Definition of color scheme for unfitted estimators */\n",
       "  --sklearn-color-unfitted-level-0: #fff5e6;\n",
       "  --sklearn-color-unfitted-level-1: #f6e4d2;\n",
       "  --sklearn-color-unfitted-level-2: #ffe0b3;\n",
       "  --sklearn-color-unfitted-level-3: chocolate;\n",
       "  /* Definition of color scheme for fitted estimators */\n",
       "  --sklearn-color-fitted-level-0: #f0f8ff;\n",
       "  --sklearn-color-fitted-level-1: #d4ebff;\n",
       "  --sklearn-color-fitted-level-2: #b3dbfd;\n",
       "  --sklearn-color-fitted-level-3: cornflowerblue;\n",
       "\n",
       "  /* Specific color for light theme */\n",
       "  --sklearn-color-text-on-default-background: var(--sg-text-color, var(--theme-code-foreground, var(--jp-content-font-color1, black)));\n",
       "  --sklearn-color-background: var(--sg-background-color, var(--theme-background, var(--jp-layout-color0, white)));\n",
       "  --sklearn-color-border-box: var(--sg-text-color, var(--theme-code-foreground, var(--jp-content-font-color1, black)));\n",
       "  --sklearn-color-icon: #696969;\n",
       "\n",
       "  @media (prefers-color-scheme: dark) {\n",
       "    /* Redefinition of color scheme for dark theme */\n",
       "    --sklearn-color-text-on-default-background: var(--sg-text-color, var(--theme-code-foreground, var(--jp-content-font-color1, white)));\n",
       "    --sklearn-color-background: var(--sg-background-color, var(--theme-background, var(--jp-layout-color0, #111)));\n",
       "    --sklearn-color-border-box: var(--sg-text-color, var(--theme-code-foreground, var(--jp-content-font-color1, white)));\n",
       "    --sklearn-color-icon: #878787;\n",
       "  }\n",
       "}\n",
       "\n",
       "#sk-container-id-1 {\n",
       "  color: var(--sklearn-color-text);\n",
       "}\n",
       "\n",
       "#sk-container-id-1 pre {\n",
       "  padding: 0;\n",
       "}\n",
       "\n",
       "#sk-container-id-1 input.sk-hidden--visually {\n",
       "  border: 0;\n",
       "  clip: rect(1px 1px 1px 1px);\n",
       "  clip: rect(1px, 1px, 1px, 1px);\n",
       "  height: 1px;\n",
       "  margin: -1px;\n",
       "  overflow: hidden;\n",
       "  padding: 0;\n",
       "  position: absolute;\n",
       "  width: 1px;\n",
       "}\n",
       "\n",
       "#sk-container-id-1 div.sk-dashed-wrapped {\n",
       "  border: 1px dashed var(--sklearn-color-line);\n",
       "  margin: 0 0.4em 0.5em 0.4em;\n",
       "  box-sizing: border-box;\n",
       "  padding-bottom: 0.4em;\n",
       "  background-color: var(--sklearn-color-background);\n",
       "}\n",
       "\n",
       "#sk-container-id-1 div.sk-container {\n",
       "  /* jupyter's `normalize.less` sets `[hidden] { display: none; }`\n",
       "     but bootstrap.min.css set `[hidden] { display: none !important; }`\n",
       "     so we also need the `!important` here to be able to override the\n",
       "     default hidden behavior on the sphinx rendered scikit-learn.org.\n",
       "     See: https://github.com/scikit-learn/scikit-learn/issues/21755 */\n",
       "  display: inline-block !important;\n",
       "  position: relative;\n",
       "}\n",
       "\n",
       "#sk-container-id-1 div.sk-text-repr-fallback {\n",
       "  display: none;\n",
       "}\n",
       "\n",
       "div.sk-parallel-item,\n",
       "div.sk-serial,\n",
       "div.sk-item {\n",
       "  /* draw centered vertical line to link estimators */\n",
       "  background-image: linear-gradient(var(--sklearn-color-text-on-default-background), var(--sklearn-color-text-on-default-background));\n",
       "  background-size: 2px 100%;\n",
       "  background-repeat: no-repeat;\n",
       "  background-position: center center;\n",
       "}\n",
       "\n",
       "/* Parallel-specific style estimator block */\n",
       "\n",
       "#sk-container-id-1 div.sk-parallel-item::after {\n",
       "  content: \"\";\n",
       "  width: 100%;\n",
       "  border-bottom: 2px solid var(--sklearn-color-text-on-default-background);\n",
       "  flex-grow: 1;\n",
       "}\n",
       "\n",
       "#sk-container-id-1 div.sk-parallel {\n",
       "  display: flex;\n",
       "  align-items: stretch;\n",
       "  justify-content: center;\n",
       "  background-color: var(--sklearn-color-background);\n",
       "  position: relative;\n",
       "}\n",
       "\n",
       "#sk-container-id-1 div.sk-parallel-item {\n",
       "  display: flex;\n",
       "  flex-direction: column;\n",
       "}\n",
       "\n",
       "#sk-container-id-1 div.sk-parallel-item:first-child::after {\n",
       "  align-self: flex-end;\n",
       "  width: 50%;\n",
       "}\n",
       "\n",
       "#sk-container-id-1 div.sk-parallel-item:last-child::after {\n",
       "  align-self: flex-start;\n",
       "  width: 50%;\n",
       "}\n",
       "\n",
       "#sk-container-id-1 div.sk-parallel-item:only-child::after {\n",
       "  width: 0;\n",
       "}\n",
       "\n",
       "/* Serial-specific style estimator block */\n",
       "\n",
       "#sk-container-id-1 div.sk-serial {\n",
       "  display: flex;\n",
       "  flex-direction: column;\n",
       "  align-items: center;\n",
       "  background-color: var(--sklearn-color-background);\n",
       "  padding-right: 1em;\n",
       "  padding-left: 1em;\n",
       "}\n",
       "\n",
       "\n",
       "/* Toggleable style: style used for estimator/Pipeline/ColumnTransformer box that is\n",
       "clickable and can be expanded/collapsed.\n",
       "- Pipeline and ColumnTransformer use this feature and define the default style\n",
       "- Estimators will overwrite some part of the style using the `sk-estimator` class\n",
       "*/\n",
       "\n",
       "/* Pipeline and ColumnTransformer style (default) */\n",
       "\n",
       "#sk-container-id-1 div.sk-toggleable {\n",
       "  /* Default theme specific background. It is overwritten whether we have a\n",
       "  specific estimator or a Pipeline/ColumnTransformer */\n",
       "  background-color: var(--sklearn-color-background);\n",
       "}\n",
       "\n",
       "/* Toggleable label */\n",
       "#sk-container-id-1 label.sk-toggleable__label {\n",
       "  cursor: pointer;\n",
       "  display: block;\n",
       "  width: 100%;\n",
       "  margin-bottom: 0;\n",
       "  padding: 0.5em;\n",
       "  box-sizing: border-box;\n",
       "  text-align: center;\n",
       "}\n",
       "\n",
       "#sk-container-id-1 label.sk-toggleable__label-arrow:before {\n",
       "  /* Arrow on the left of the label */\n",
       "  content: \"▸\";\n",
       "  float: left;\n",
       "  margin-right: 0.25em;\n",
       "  color: var(--sklearn-color-icon);\n",
       "}\n",
       "\n",
       "#sk-container-id-1 label.sk-toggleable__label-arrow:hover:before {\n",
       "  color: var(--sklearn-color-text);\n",
       "}\n",
       "\n",
       "/* Toggleable content - dropdown */\n",
       "\n",
       "#sk-container-id-1 div.sk-toggleable__content {\n",
       "  max-height: 0;\n",
       "  max-width: 0;\n",
       "  overflow: hidden;\n",
       "  text-align: left;\n",
       "  /* unfitted */\n",
       "  background-color: var(--sklearn-color-unfitted-level-0);\n",
       "}\n",
       "\n",
       "#sk-container-id-1 div.sk-toggleable__content.fitted {\n",
       "  /* fitted */\n",
       "  background-color: var(--sklearn-color-fitted-level-0);\n",
       "}\n",
       "\n",
       "#sk-container-id-1 div.sk-toggleable__content pre {\n",
       "  margin: 0.2em;\n",
       "  border-radius: 0.25em;\n",
       "  color: var(--sklearn-color-text);\n",
       "  /* unfitted */\n",
       "  background-color: var(--sklearn-color-unfitted-level-0);\n",
       "}\n",
       "\n",
       "#sk-container-id-1 div.sk-toggleable__content.fitted pre {\n",
       "  /* unfitted */\n",
       "  background-color: var(--sklearn-color-fitted-level-0);\n",
       "}\n",
       "\n",
       "#sk-container-id-1 input.sk-toggleable__control:checked~div.sk-toggleable__content {\n",
       "  /* Expand drop-down */\n",
       "  max-height: 200px;\n",
       "  max-width: 100%;\n",
       "  overflow: auto;\n",
       "}\n",
       "\n",
       "#sk-container-id-1 input.sk-toggleable__control:checked~label.sk-toggleable__label-arrow:before {\n",
       "  content: \"▾\";\n",
       "}\n",
       "\n",
       "/* Pipeline/ColumnTransformer-specific style */\n",
       "\n",
       "#sk-container-id-1 div.sk-label input.sk-toggleable__control:checked~label.sk-toggleable__label {\n",
       "  color: var(--sklearn-color-text);\n",
       "  background-color: var(--sklearn-color-unfitted-level-2);\n",
       "}\n",
       "\n",
       "#sk-container-id-1 div.sk-label.fitted input.sk-toggleable__control:checked~label.sk-toggleable__label {\n",
       "  background-color: var(--sklearn-color-fitted-level-2);\n",
       "}\n",
       "\n",
       "/* Estimator-specific style */\n",
       "\n",
       "/* Colorize estimator box */\n",
       "#sk-container-id-1 div.sk-estimator input.sk-toggleable__control:checked~label.sk-toggleable__label {\n",
       "  /* unfitted */\n",
       "  background-color: var(--sklearn-color-unfitted-level-2);\n",
       "}\n",
       "\n",
       "#sk-container-id-1 div.sk-estimator.fitted input.sk-toggleable__control:checked~label.sk-toggleable__label {\n",
       "  /* fitted */\n",
       "  background-color: var(--sklearn-color-fitted-level-2);\n",
       "}\n",
       "\n",
       "#sk-container-id-1 div.sk-label label.sk-toggleable__label,\n",
       "#sk-container-id-1 div.sk-label label {\n",
       "  /* The background is the default theme color */\n",
       "  color: var(--sklearn-color-text-on-default-background);\n",
       "}\n",
       "\n",
       "/* On hover, darken the color of the background */\n",
       "#sk-container-id-1 div.sk-label:hover label.sk-toggleable__label {\n",
       "  color: var(--sklearn-color-text);\n",
       "  background-color: var(--sklearn-color-unfitted-level-2);\n",
       "}\n",
       "\n",
       "/* Label box, darken color on hover, fitted */\n",
       "#sk-container-id-1 div.sk-label.fitted:hover label.sk-toggleable__label.fitted {\n",
       "  color: var(--sklearn-color-text);\n",
       "  background-color: var(--sklearn-color-fitted-level-2);\n",
       "}\n",
       "\n",
       "/* Estimator label */\n",
       "\n",
       "#sk-container-id-1 div.sk-label label {\n",
       "  font-family: monospace;\n",
       "  font-weight: bold;\n",
       "  display: inline-block;\n",
       "  line-height: 1.2em;\n",
       "}\n",
       "\n",
       "#sk-container-id-1 div.sk-label-container {\n",
       "  text-align: center;\n",
       "}\n",
       "\n",
       "/* Estimator-specific */\n",
       "#sk-container-id-1 div.sk-estimator {\n",
       "  font-family: monospace;\n",
       "  border: 1px dotted var(--sklearn-color-border-box);\n",
       "  border-radius: 0.25em;\n",
       "  box-sizing: border-box;\n",
       "  margin-bottom: 0.5em;\n",
       "  /* unfitted */\n",
       "  background-color: var(--sklearn-color-unfitted-level-0);\n",
       "}\n",
       "\n",
       "#sk-container-id-1 div.sk-estimator.fitted {\n",
       "  /* fitted */\n",
       "  background-color: var(--sklearn-color-fitted-level-0);\n",
       "}\n",
       "\n",
       "/* on hover */\n",
       "#sk-container-id-1 div.sk-estimator:hover {\n",
       "  /* unfitted */\n",
       "  background-color: var(--sklearn-color-unfitted-level-2);\n",
       "}\n",
       "\n",
       "#sk-container-id-1 div.sk-estimator.fitted:hover {\n",
       "  /* fitted */\n",
       "  background-color: var(--sklearn-color-fitted-level-2);\n",
       "}\n",
       "\n",
       "/* Specification for estimator info (e.g. \"i\" and \"?\") */\n",
       "\n",
       "/* Common style for \"i\" and \"?\" */\n",
       "\n",
       ".sk-estimator-doc-link,\n",
       "a:link.sk-estimator-doc-link,\n",
       "a:visited.sk-estimator-doc-link {\n",
       "  float: right;\n",
       "  font-size: smaller;\n",
       "  line-height: 1em;\n",
       "  font-family: monospace;\n",
       "  background-color: var(--sklearn-color-background);\n",
       "  border-radius: 1em;\n",
       "  height: 1em;\n",
       "  width: 1em;\n",
       "  text-decoration: none !important;\n",
       "  margin-left: 1ex;\n",
       "  /* unfitted */\n",
       "  border: var(--sklearn-color-unfitted-level-1) 1pt solid;\n",
       "  color: var(--sklearn-color-unfitted-level-1);\n",
       "}\n",
       "\n",
       ".sk-estimator-doc-link.fitted,\n",
       "a:link.sk-estimator-doc-link.fitted,\n",
       "a:visited.sk-estimator-doc-link.fitted {\n",
       "  /* fitted */\n",
       "  border: var(--sklearn-color-fitted-level-1) 1pt solid;\n",
       "  color: var(--sklearn-color-fitted-level-1);\n",
       "}\n",
       "\n",
       "/* On hover */\n",
       "div.sk-estimator:hover .sk-estimator-doc-link:hover,\n",
       ".sk-estimator-doc-link:hover,\n",
       "div.sk-label-container:hover .sk-estimator-doc-link:hover,\n",
       ".sk-estimator-doc-link:hover {\n",
       "  /* unfitted */\n",
       "  background-color: var(--sklearn-color-unfitted-level-3);\n",
       "  color: var(--sklearn-color-background);\n",
       "  text-decoration: none;\n",
       "}\n",
       "\n",
       "div.sk-estimator.fitted:hover .sk-estimator-doc-link.fitted:hover,\n",
       ".sk-estimator-doc-link.fitted:hover,\n",
       "div.sk-label-container:hover .sk-estimator-doc-link.fitted:hover,\n",
       ".sk-estimator-doc-link.fitted:hover {\n",
       "  /* fitted */\n",
       "  background-color: var(--sklearn-color-fitted-level-3);\n",
       "  color: var(--sklearn-color-background);\n",
       "  text-decoration: none;\n",
       "}\n",
       "\n",
       "/* Span, style for the box shown on hovering the info icon */\n",
       ".sk-estimator-doc-link span {\n",
       "  display: none;\n",
       "  z-index: 9999;\n",
       "  position: relative;\n",
       "  font-weight: normal;\n",
       "  right: .2ex;\n",
       "  padding: .5ex;\n",
       "  margin: .5ex;\n",
       "  width: min-content;\n",
       "  min-width: 20ex;\n",
       "  max-width: 50ex;\n",
       "  color: var(--sklearn-color-text);\n",
       "  box-shadow: 2pt 2pt 4pt #999;\n",
       "  /* unfitted */\n",
       "  background: var(--sklearn-color-unfitted-level-0);\n",
       "  border: .5pt solid var(--sklearn-color-unfitted-level-3);\n",
       "}\n",
       "\n",
       ".sk-estimator-doc-link.fitted span {\n",
       "  /* fitted */\n",
       "  background: var(--sklearn-color-fitted-level-0);\n",
       "  border: var(--sklearn-color-fitted-level-3);\n",
       "}\n",
       "\n",
       ".sk-estimator-doc-link:hover span {\n",
       "  display: block;\n",
       "}\n",
       "\n",
       "/* \"?\"-specific style due to the `<a>` HTML tag */\n",
       "\n",
       "#sk-container-id-1 a.estimator_doc_link {\n",
       "  float: right;\n",
       "  font-size: 1rem;\n",
       "  line-height: 1em;\n",
       "  font-family: monospace;\n",
       "  background-color: var(--sklearn-color-background);\n",
       "  border-radius: 1rem;\n",
       "  height: 1rem;\n",
       "  width: 1rem;\n",
       "  text-decoration: none;\n",
       "  /* unfitted */\n",
       "  color: var(--sklearn-color-unfitted-level-1);\n",
       "  border: var(--sklearn-color-unfitted-level-1) 1pt solid;\n",
       "}\n",
       "\n",
       "#sk-container-id-1 a.estimator_doc_link.fitted {\n",
       "  /* fitted */\n",
       "  border: var(--sklearn-color-fitted-level-1) 1pt solid;\n",
       "  color: var(--sklearn-color-fitted-level-1);\n",
       "}\n",
       "\n",
       "/* On hover */\n",
       "#sk-container-id-1 a.estimator_doc_link:hover {\n",
       "  /* unfitted */\n",
       "  background-color: var(--sklearn-color-unfitted-level-3);\n",
       "  color: var(--sklearn-color-background);\n",
       "  text-decoration: none;\n",
       "}\n",
       "\n",
       "#sk-container-id-1 a.estimator_doc_link.fitted:hover {\n",
       "  /* fitted */\n",
       "  background-color: var(--sklearn-color-fitted-level-3);\n",
       "}\n",
       "</style><div id=\"sk-container-id-1\" class=\"sk-top-container\"><div class=\"sk-text-repr-fallback\"><pre>KNeighborsClassifier(n_neighbors=11)</pre><b>In a Jupyter environment, please rerun this cell to show the HTML representation or trust the notebook. <br />On GitHub, the HTML representation is unable to render, please try loading this page with nbviewer.org.</b></div><div class=\"sk-container\" hidden><div class=\"sk-item\"><div class=\"sk-estimator fitted sk-toggleable\"><input class=\"sk-toggleable__control sk-hidden--visually\" id=\"sk-estimator-id-1\" type=\"checkbox\" checked><label for=\"sk-estimator-id-1\" class=\"sk-toggleable__label fitted sk-toggleable__label-arrow fitted\">&nbsp;&nbsp;KNeighborsClassifier<a class=\"sk-estimator-doc-link fitted\" rel=\"noreferrer\" target=\"_blank\" href=\"https://scikit-learn.org/1.4/modules/generated/sklearn.neighbors.KNeighborsClassifier.html\">?<span>Documentation for KNeighborsClassifier</span></a><span class=\"sk-estimator-doc-link fitted\">i<span>Fitted</span></span></label><div class=\"sk-toggleable__content fitted\"><pre>KNeighborsClassifier(n_neighbors=11)</pre></div> </div></div></div></div>"
      ],
      "text/plain": [
       "KNeighborsClassifier(n_neighbors=11)"
      ]
     },
     "execution_count": 48,
     "metadata": {},
     "output_type": "execute_result"
    }
   ],
   "source": [
    "model = KNeighborsClassifier(n_neighbors = 11)\n",
    "model.fit(x_train, y_train)"
   ]
  },
  {
   "cell_type": "markdown",
   "id": "196a262b-0a6e-49da-89d3-7d8f754535c9",
   "metadata": {},
   "source": [
    "### **5. Model Evaluation** ###"
   ]
  },
  {
   "cell_type": "markdown",
   "id": "5ea5edc5-7451-4035-859f-dc31e4e2313e",
   "metadata": {},
   "source": [
    "##### Evaluating the accuracy score of this model #####"
   ]
  },
  {
   "cell_type": "code",
   "execution_count": 51,
   "id": "30b4174b-56dd-4eb4-8cb0-655b7fed0409",
   "metadata": {},
   "outputs": [
    {
     "name": "stdout",
     "output_type": "stream",
     "text": [
      "Accuracy: 1.0\n"
     ]
    }
   ],
   "source": [
    "y_pred = model.predict(x_test)\n",
    "accuracy = accuracy_score(y_test, y_pred)\n",
    "print('Accuracy:', accuracy)"
   ]
  },
  {
   "cell_type": "markdown",
   "id": "5d63da92-795c-4bc2-92d2-aa604a733d98",
   "metadata": {},
   "source": [
    "##### Generating a classification report for this model #####"
   ]
  },
  {
   "cell_type": "code",
   "execution_count": 53,
   "id": "31dc3774-5c3b-4dba-88e7-bc71735e90a4",
   "metadata": {},
   "outputs": [
    {
     "name": "stdout",
     "output_type": "stream",
     "text": [
      "              precision    recall  f1-score   support\n",
      "\n",
      "     average       1.00      1.00      1.00        93\n",
      "        high       1.00      1.00      1.00        53\n",
      "         low       1.00      1.00      1.00        54\n",
      "\n",
      "    accuracy                           1.00       200\n",
      "   macro avg       1.00      1.00      1.00       200\n",
      "weighted avg       1.00      1.00      1.00       200\n",
      "\n"
     ]
    }
   ],
   "source": [
    "print(classification_report(y_test, y_pred))"
   ]
  },
  {
   "cell_type": "markdown",
   "id": "9f50281f-35f7-41e7-9d54-c689feb1252a",
   "metadata": {},
   "source": [
    "##### Generating a confusion matrix for this model #####"
   ]
  },
  {
   "cell_type": "code",
   "execution_count": 55,
   "id": "f95e7e97-bdc8-4703-94c5-aa5871b71faf",
   "metadata": {},
   "outputs": [
    {
     "data": {
      "image/png": "[encoded data removed]",
      "text/plain": [
       "<Figure size 640x480 with 2 Axes>"
      ]
     },
     "metadata": {},
     "output_type": "display_data"
    }
   ],
   "source": [
    "cf_matrix = confusion_matrix(y_test, y_pred)\n",
    "sns.heatmap(pd.DataFrame(cf_matrix), annot = True, cmap = 'BuGn')\n",
    "plt.xlabel ('Predcited')\n",
    "plt.ylabel('Actual')\n",
    "plt.show()"
   ]
  },
  {
   "cell_type": "markdown",
   "id": "1ebf9017-6fdd-4ff1-8e03-cc90c06806c3",
   "metadata": {},
   "source": [
    "##### As shown in the metrics (all exceeding 0.7), the model can be considered reliable. Additionally, the 'diagonal values' in the confusion matrix further support this claim. #####"
   ]
  },
  {
   "cell_type": "markdown",
   "id": "7d7827dc-3e05-413a-b5fd-a962c3a24746",
   "metadata": {},
   "source": [
    "### **6. Model Application** ###"
   ]
  },
  {
   "cell_type": "markdown",
   "id": "22fb1476-122e-45f5-ab96-4a07e5d34bf6",
   "metadata": {},
   "source": [
    "##### I decided to use a combination of mean and median values to create an imaginary male user. #####"
   ]
  },
  {
   "cell_type": "code",
   "execution_count": 59,
   "id": "600ee05d-7ada-4e43-8dfb-9053b67207f0",
   "metadata": {},
   "outputs": [
    {
     "name": "stdout",
     "output_type": "stream",
     "text": [
      "Average Income: 50988\n",
      "Median Children: 1.0\n",
      "Average Age: 35\n",
      "Median Attractiveness: 6.0\n"
     ]
    }
   ],
   "source": [
    "print(\"Average Income:\", round(dates['Income'].mean()))\n",
    "print(\"Median Children:\", dates['Children'].median())\n",
    "print(\"Average Age:\", round(dates['Age'].mean()))\n",
    "print(\"Median Attractiveness:\", dates['Attractiveness'].median())"
   ]
  },
  {
   "cell_type": "markdown",
   "id": "7155729c-4ece-4d82-bdc8-ab1ae49fd83e",
   "metadata": {},
   "source": [
    "##### Finally, I applied the model to evaluate the categorized quantity of matches using the same metrics for the same user, excluding the VIP subscription. The first prediction reflects the user without a VIP subscription, and the second—with it. #####"
   ]
  },
  {
   "cell_type": "code",
   "execution_count": 61,
   "id": "d216a361-24dd-4b34-aeb8-11bd4d610812",
   "metadata": {},
   "outputs": [
    {
     "data": {
      "text/plain": [
       "'average'"
      ]
     },
     "execution_count": 61,
     "metadata": {},
     "output_type": "execute_result"
    }
   ],
   "source": [
    "new = [[0, 0, 50988, 1, 35, 6]]\n",
    "new = sc.transform(new)\n",
    "new_pred = model.predict(new)\n",
    "new_pred[0]"
   ]
  },
  {
   "cell_type": "code",
   "execution_count": 62,
   "id": "3ed0405f-c21a-407a-9ab9-4f9dc9b8ee5c",
   "metadata": {},
   "outputs": [
    {
     "data": {
      "text/plain": [
       "'average'"
      ]
     },
     "execution_count": 62,
     "metadata": {},
     "output_type": "execute_result"
    }
   ],
   "source": [
    "new = [[0, 1, 50988, 1, 35, 6]]\n",
    "new = sc.transform(new)\n",
    "new_pred = model.predict(new)\n",
    "new_pred[0]"
   ]
  },
  {
   "cell_type": "markdown",
   "id": "0ab7d2fb-9d77-4425-9c4f-152caccdba53",
   "metadata": {},
   "source": [
    "### **7. Conclusion** ###"
   ]
  },
  {
   "cell_type": "markdown",
   "id": "99b92a4f-ea4c-4f52-a28e-55daf272c283",
   "metadata": {},
   "source": [
    "##### As demonstrated above, purchasing a VIP subscription does not affect one's performance on dating apps by increasing the number of matches. #####"
   ]
  },
  {
   "cell_type": "markdown",
   "id": "cb1f36a3-3291-404b-b8a3-3c6180d2175a",
   "metadata": {},
   "source": [
    "### **8. Caveats** ###"
   ]
  },
  {
   "cell_type": "markdown",
   "id": "898667ee-7910-4fa0-92af-f7516c68d3e4",
   "metadata": {},
   "source": [
    "##### This dataset contains 1000 records, which is relatively small. Additionally, the data may not fully reflect reality, as it was captured intermittently over different periods of time. Furthermore, as noted by the author of the dataset, 'certain match categories are missing due to confidentiality constraints, and several other crucial variables are also absent for the same reason,' which ultimately affects the predicted number of matches. #####\n",
    "##### Additionally, the author warns that 'only users with variables showing high correlation with the matching variable were included in the dataset.' Therefore, the high accuracy of models based on this dataset is primarily due to the data collection method. #####\n",
    "##### On a separate note, the dataset contains 'ghost users' who are associated with 0 matches. These users create an account but later abandon the app, which distorts the findings. #####\n",
    "##### Finally, the methods of defining thresholds for categorizing should be enhanced through the performance of a more complex analysis. #####\n"
   ]
  },
  {
   "cell_type": "code",
   "execution_count": null,
   "id": "4c5f1001-6b93-4784-a51a-6ac45aeafd38",
   "metadata": {},
   "outputs": [],
   "source": []
  }
 ],
 "metadata": {
  "kernelspec": {
   "display_name": "Python [conda env:base] *",
   "language": "python",
   "name": "conda-base-py"
  },
  "language_info": {
   "codemirror_mode": {
    "name": "ipython",
    "version": 3
   },
   "file_extension": ".py",
   "mimetype": "text/x-python",
   "name": "python",
   "nbconvert_exporter": "python",
   "pygments_lexer": "ipython3",
   "version": "3.12.4"
  }
 },
 "nbformat": 4,
 "nbformat_minor": 5
}
